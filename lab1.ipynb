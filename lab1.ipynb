{
 "cells": [
  {
   "cell_type": "code",
   "execution_count": null,
   "metadata": {},
   "outputs": [],
   "source": [
    "\"\"\"Lab 1: Expressions and Control Structures\"\"\"\n",
    "\n",
    "def both_positive(x, y):\n",
    "    \"\"\"Returns True if both x and y are positive.\n",
    "\n",
    "    >>> both_positive(-1, 1)\n",
    "    False\n",
    "    >>> both_positive(1, 1)\n",
    "    True\n",
    "    \"\"\"\n",
    "    return x and y > 0 # You can replace this line!"
   ]
  },
  {
   "cell_type": "code",
   "execution_count": 7,
   "metadata": {},
   "outputs": [
    {
     "name": "stdout",
     "output_type": "stream",
     "text": [
      "1\n",
      "12\n",
      "45\n",
      "6\n"
     ]
    }
   ],
   "source": [
    "def sum_digits(n):\n",
    "    \"\"\"Sum all the digits of n.\n",
    "\n",
    "    >>> sum_digits(10) # 1 + 0 = 1\n",
    "    1\n",
    "    >>> sum_digits(4224) # 4 + 2 + 2 + 4 = 12\n",
    "    12\n",
    "    >>> sum_digits(1234567890)\n",
    "    45\n",
    "    >>> x = sum_digits(123) # make sure that you are using return rather than print\n",
    "    >>> x\n",
    "    6\n",
    "    \"\"\"\n",
    "    \"*** YOUR CODE HERE ***\"\n",
    "    total = 0\n",
    "    k = 1\n",
    "    while n >= 10:\n",
    "        total = total + n % 10\n",
    "        k = k + 1\n",
    "        n = n // 10\n",
    "    total  = n + total\n",
    "    return total\n",
    "print(sum_digits(10))\n",
    "print(sum_digits(4224))\n",
    "print(sum_digits(1234567890))\n",
    "print(sum_digits(123))"
   ]
  },
  {
   "cell_type": "code",
   "execution_count": 9,
   "metadata": {},
   "outputs": [
    {
     "name": "stdout",
     "output_type": "stream",
     "text": [
      "120\n",
      "24\n",
      "4\n",
      "1\n"
     ]
    }
   ],
   "source": [
    "\"\"\"Optional questions for Lab 1\"\"\"\n",
    "\n",
    "# While Loops\n",
    "\n",
    "def falling(n, k):\n",
    "    \"\"\"Compute the falling factorial of n to depth k.\n",
    "\n",
    "    >>> falling(6, 3)  # 6 * 5 * 4\n",
    "    120\n",
    "    >>> falling(4, 3)  # 4 * 3 * 2\n",
    "    24\n",
    "    >>> falling(4, 1)  # 4\n",
    "    4\n",
    "    >>> falling(4, 0)\n",
    "    1\n",
    "    \"\"\"\n",
    "    \"*** YOUR CODE HERE ***\"\n",
    "    total = 1\n",
    "    while k > 0:\n",
    "        total = total * n\n",
    "        n = n - 1\n",
    "        k = k - 1\n",
    "    return total\n",
    "print(falling(6, 3))\n",
    "print(falling(4, 3))\n",
    "print(falling(4, 1))\n",
    "print(falling(4, 0))"
   ]
  },
  {
   "cell_type": "code",
   "execution_count": null,
   "metadata": {},
   "outputs": [],
   "source": [
    "def double_eights(n):\n",
    "    \"\"\"Return true if n has two eights in a row.\n",
    "    >>> double_eights(8)\n",
    "    False\n",
    "    >>> double_eights(88)\n",
    "    True\n",
    "    >>> double_eights(2882)\n",
    "    True\n",
    "    >>> double_eights(880088)\n",
    "    True\n",
    "    >>> double_eights(12345)\n",
    "    False\n",
    "    >>> double_eights(80808080)\n",
    "    False\n",
    "    \"\"\"\n",
    "    \"*** YOUR CODE HERE ***\""
   ]
  }
 ],
 "metadata": {
  "kernelspec": {
   "display_name": "Python 3",
   "language": "python",
   "name": "python3"
  },
  "language_info": {
   "codemirror_mode": {
    "name": "ipython",
    "version": 3
   },
   "file_extension": ".py",
   "mimetype": "text/x-python",
   "name": "python",
   "nbconvert_exporter": "python",
   "pygments_lexer": "ipython3",
   "version": "3.7.3"
  }
 },
 "nbformat": 4,
 "nbformat_minor": 2
}

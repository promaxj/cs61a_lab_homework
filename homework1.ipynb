{
 "cells": [
  {
   "cell_type": "code",
   "execution_count": 1,
   "metadata": {},
   "outputs": [
    {
     "name": "stdout",
     "output_type": "stream",
     "text": [
      "5\n",
      "5\n"
     ]
    }
   ],
   "source": [
    "\"\"\" Homework 1: Control \"\"\"\n",
    "\n",
    "from operator import add, sub\n",
    "\n",
    "def a_plus_abs_b(a, b):\n",
    "    \"\"\"Return a+abs(b), but without calling abs.\n",
    "\n",
    "    >>> a_plus_abs_b(2, 3)\n",
    "    5\n",
    "    >>> a_plus_abs_b(2, -3)\n",
    "    5\n",
    "    \"\"\"\n",
    "    if b < 0:\n",
    "        f = sub\n",
    "    else:\n",
    "        f = add\n",
    "    return f(a, b)\n",
    "print(a_plus_abs_b(2, 3))\n",
    "print(a_plus_abs_b(2, -3))"
   ]
  },
  {
   "cell_type": "code",
   "execution_count": 2,
   "metadata": {},
   "outputs": [
    {
     "name": "stdout",
     "output_type": "stream",
     "text": [
      "13\n",
      "34\n",
      "164\n",
      "50\n"
     ]
    }
   ],
   "source": [
    "def two_of_three(a, b, c):\n",
    "    \"\"\"Return x*x + y*y, where x and y are the two largest members of the\n",
    "    positive numbers a, b, and c.\n",
    "\n",
    "    >>> two_of_three(1, 2, 3)\n",
    "    13\n",
    "    >>> two_of_three(5, 3, 1)\n",
    "    34\n",
    "    >>> two_of_three(10, 2, 8)\n",
    "    164\n",
    "    >>> two_of_three(5, 5, 5)\n",
    "    50\n",
    "    \"\"\"\n",
    "    \"\"\"\n",
    "    result = 0\n",
    "    if a > b:\n",
    "        if b > c:\n",
    "            result = a * a + b * b\n",
    "        elif c > b:\n",
    "            result = a * a + c * c\n",
    "        else:\n",
    "            result = b * b + c * c \n",
    "    elif a < b:\n",
    "        if a > c:\n",
    "            result = a * a + b * b \n",
    "        elif c > a:\n",
    "            result = a * a + c * c\n",
    "        else:\n",
    "            result = b * b + c * c\n",
    "    elif a == b:\n",
    "        if a > c:\n",
    "            result = a * a + b * b\n",
    "        elif a < c:\n",
    "            result = a * a + c * c\n",
    "        else:\n",
    "            result = a * a + c * c\n",
    "    return result\n",
    "    \"\"\"\n",
    "    if (min(a, b, c) == a):\n",
    "        result = b * b + c * c\n",
    "    elif (min(a, b, c) == b):\n",
    "        result = a * a + c * c\n",
    "    elif (min(a, b, c) == c):\n",
    "        result = b * b + a * a\n",
    "    return result\n",
    "print(two_of_three(1, 2, 3))\n",
    "print(two_of_three(5, 3, 1))\n",
    "print(two_of_three(10, 2, 8))\n",
    "print(two_of_three(5, 5, 5))"
   ]
  },
  {
   "cell_type": "code",
   "execution_count": 3,
   "metadata": {},
   "outputs": [
    {
     "name": "stdout",
     "output_type": "stream",
     "text": [
      "5\n",
      "40\n",
      "1\n"
     ]
    }
   ],
   "source": [
    "def largest_factor(n):\n",
    "    \"\"\"Return the largest factor of n that is smaller than n.\n",
    "\n",
    "    >>> largest_factor(15) # factors are 1, 3, 5result\n",
    "    5\n",
    "    >>> largest_factor(80) # factors are 1, 2, 4, 5, 8, 10, 16, 20, 40\n",
    "    40\n",
    "    >>> largest_factor(13) # factor is 1 since 13 is prime\n",
    "    1\n",
    "    \"\"\"\n",
    "    \"*** YOUR CODE HERE ***\"\n",
    "    max_factor = 1\n",
    "    search = 1\n",
    "    if n == 1:\n",
    "        return 1\n",
    "    while (search <= n/2):\n",
    "        if (n % search == 0):\n",
    "            max_factor = search\n",
    "        search += 1\n",
    "    return max_factor\n",
    "print(largest_factor(15))\n",
    "print(largest_factor(80))\n",
    "print(largest_factor(13))           "
   ]
  },
  {
   "cell_type": "code",
   "execution_count": 4,
   "metadata": {},
   "outputs": [],
   "source": [
    "def if_function(condition, true_result, false_result):\n",
    "    \"\"\"Return true_result if condition is a true value, and\n",
    "    false_result otherwise.\n",
    "\n",
    "    >>> if_function(True, 2, 3)\n",
    "    2\n",
    "    >>> if_function(False, 2, 3)\n",
    "    3\n",
    "    >>> if_function(3==2, 3+2, 3-2)\n",
    "    1\n",
    "    >>> if_function(3>2, 3+2, 3-2)\n",
    "    5\n",
    "    \"\"\"\n",
    "    if condition:\n",
    "        return true_result\n",
    "    else:\n",
    "        return false_result\n",
    "def with_if_statement():\n",
    "    \"\"\"\n",
    "    >>> result = with_if_statement()\n",
    "    2\n",
    "    >>> print(result)\n",
    "    None\n",
    "    \"\"\"\n",
    "    if c():\n",
    "        return t()\n",
    "    else:\n",
    "        return f()\n",
    "\n",
    "def with_if_function():\n",
    "    \"\"\"\n",
    "    >>> result = with_if_function()\n",
    "    1\n",
    "    2\n",
    "    >>> print(result)\n",
    "    None\n",
    "    \"\"\"\n",
    "    return if_function(c(), t(), f())\n",
    "\n",
    "def c():\n",
    "    \"*** YOUR CODE HERE ***\"\n",
    "def t():\n",
    "    \"*** YOUR CODE HERE ***\"\n",
    "    print('1')\n",
    "def f():\n",
    "    \"*** YOUR CODE HERE ***\"\n",
    "    print('2')"
   ]
  },
  {
   "cell_type": "code",
   "execution_count": 5,
   "metadata": {},
   "outputs": [
    {
     "name": "stdout",
     "output_type": "stream",
     "text": [
      "1\n",
      "2\n",
      "None\n"
     ]
    }
   ],
   "source": [
    "result = with_if_function()\n",
    "print(result)"
   ]
  },
  {
   "cell_type": "code",
   "execution_count": 6,
   "metadata": {},
   "outputs": [
    {
     "name": "stdout",
     "output_type": "stream",
     "text": [
      "2\n",
      "None\n"
     ]
    }
   ],
   "source": [
    "result = with_if_statement()\n",
    "print(result)"
   ]
  },
  {
   "cell_type": "code",
   "execution_count": 22,
   "metadata": {},
   "outputs": [
    {
     "name": "stdout",
     "output_type": "stream",
     "text": [
      "10\n",
      "5\n",
      "16\n",
      "8\n",
      "4\n",
      "2\n",
      "1\n",
      "answer: 7\n"
     ]
    }
   ],
   "source": [
    "def hailstone(n):\n",
    "    \"\"\"Print the hailstone sequence starting at n and return its\n",
    "    length.\n",
    "\n",
    "    >>> a = hailstone(10)\n",
    "    10\n",
    "    5\n",
    "    16\n",
    "    8\n",
    "    4\n",
    "    2\n",
    "    1\n",
    "    >>> a\n",
    "    7\n",
    "    \"\"\"\n",
    "    \"*** YOUR CODE HERE ***\"\n",
    "    print(n)\n",
    "    count = 1\n",
    "    while n > 1:\n",
    "        if n%2: #奇数\n",
    "            n = 3*n + 1\n",
    "            print(n)\n",
    "        else:  #偶数\n",
    "            n = n//2\n",
    "            print(n)\n",
    "        count += 1\n",
    "    return count\n",
    "a = hailstone(10)\n",
    "print(f'answer: {a}')"
   ]
  }
 ],
 "metadata": {
  "kernelspec": {
   "display_name": "Python 3",
   "language": "python",
   "name": "python3"
  },
  "language_info": {
   "codemirror_mode": {
    "name": "ipython",
    "version": 3
   },
   "file_extension": ".py",
   "mimetype": "text/x-python",
   "name": "python",
   "nbconvert_exporter": "python",
   "pygments_lexer": "ipython3",
   "version": "3.7.3"
  }
 },
 "nbformat": 4,
 "nbformat_minor": 2
}
